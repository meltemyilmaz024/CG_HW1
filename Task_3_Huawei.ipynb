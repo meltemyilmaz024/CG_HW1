{
  "nbformat": 4,
  "nbformat_minor": 0,
  "metadata": {
    "colab": {
      "name": "Task 3_Huawei.ipynb",
      "provenance": [],
      "collapsed_sections": [
        "24LrpsWQo_tv",
        "Sa_u65wGo2Ao"
      ],
      "include_colab_link": true
    },
    "kernelspec": {
      "name": "python3",
      "display_name": "Python 3"
    },
    "language_info": {
      "name": "python"
    },
    "accelerator": "GPU"
  },
  "cells": [
    {
      "cell_type": "markdown",
      "metadata": {
        "id": "view-in-github",
        "colab_type": "text"
      },
      "source": [
        "<a href=\"https://colab.research.google.com/github/meltemyilmaz024/CG_HW1/blob/master/Task_3_Huawei.ipynb\" target=\"_parent\"><img src=\"https://colab.research.google.com/assets/colab-badge.svg\" alt=\"Open In Colab\"/></a>"
      ]
    },
    {
      "cell_type": "markdown",
      "source": [
        "# Task-3\n",
        "- Create a dataframe with following schema:\n",
        "```\n",
        "root\n",
        "|-- content: string (nullable = true) \n",
        "|-- label: string (nullable = true) \n",
        "|-- sentiment: string (nullable = true)\n",
        "```\n",
        "\n",
        "\n",
        "Design a tokenizer for content column and remove stop words, and give descriptive information about obtained content column"
      ],
      "metadata": {
        "id": "wrg1vho0puvj"
      }
    },
    {
      "cell_type": "markdown",
      "source": [
        "## Setup envirment"
      ],
      "metadata": {
        "id": "h_mZ-WuVDRdq"
      }
    },
    {
      "cell_type": "code",
      "source": [
        "!pip install pyspark\n",
        "# Spark SQL\n",
        "!pip install pyspark[sql]\n",
        "# pandas API on Spark\n",
        "!pip install pyspark[pandas_on_spark] plotly  # to plot your data, you can install plotly together."
      ],
      "metadata": {
        "id": "9Jhl-6yAoET9",
        "colab": {
          "base_uri": "https://localhost:8080/"
        },
        "outputId": "c3e37ded-a911-4ae8-82a5-ceabbfaf7d01"
      },
      "execution_count": 1,
      "outputs": [
        {
          "output_type": "stream",
          "name": "stdout",
          "text": [
            "Collecting pyspark\n",
            "  Downloading pyspark-3.2.1.tar.gz (281.4 MB)\n",
            "\u001b[K     |████████████████████████████████| 281.4 MB 27 kB/s \n",
            "\u001b[?25hCollecting py4j==0.10.9.3\n",
            "  Downloading py4j-0.10.9.3-py2.py3-none-any.whl (198 kB)\n",
            "\u001b[K     |████████████████████████████████| 198 kB 33.9 MB/s \n",
            "\u001b[?25hBuilding wheels for collected packages: pyspark\n",
            "  Building wheel for pyspark (setup.py) ... \u001b[?25l\u001b[?25hdone\n",
            "  Created wheel for pyspark: filename=pyspark-3.2.1-py2.py3-none-any.whl size=281853642 sha256=612524c5905b71cbd14a31838145280b344d6e90275c9a8c5ffcf053b0b5b0f0\n",
            "  Stored in directory: /root/.cache/pip/wheels/9f/f5/07/7cd8017084dce4e93e84e92efd1e1d5334db05f2e83bcef74f\n",
            "Successfully built pyspark\n",
            "Installing collected packages: py4j, pyspark\n",
            "Successfully installed py4j-0.10.9.3 pyspark-3.2.1\n",
            "Requirement already satisfied: pyspark[sql] in /usr/local/lib/python3.7/dist-packages (3.2.1)\n",
            "Requirement already satisfied: py4j==0.10.9.3 in /usr/local/lib/python3.7/dist-packages (from pyspark[sql]) (0.10.9.3)\n",
            "Requirement already satisfied: pyarrow>=1.0.0 in /usr/local/lib/python3.7/dist-packages (from pyspark[sql]) (6.0.1)\n",
            "Requirement already satisfied: pandas>=0.23.2 in /usr/local/lib/python3.7/dist-packages (from pyspark[sql]) (1.3.5)\n",
            "Requirement already satisfied: python-dateutil>=2.7.3 in /usr/local/lib/python3.7/dist-packages (from pandas>=0.23.2->pyspark[sql]) (2.8.2)\n",
            "Requirement already satisfied: pytz>=2017.3 in /usr/local/lib/python3.7/dist-packages (from pandas>=0.23.2->pyspark[sql]) (2018.9)\n",
            "Requirement already satisfied: numpy>=1.17.3 in /usr/local/lib/python3.7/dist-packages (from pandas>=0.23.2->pyspark[sql]) (1.19.5)\n",
            "Requirement already satisfied: six>=1.5 in /usr/local/lib/python3.7/dist-packages (from python-dateutil>=2.7.3->pandas>=0.23.2->pyspark[sql]) (1.15.0)\n",
            "Requirement already satisfied: pyspark[pandas_on_spark] in /usr/local/lib/python3.7/dist-packages (3.2.1)\n",
            "Requirement already satisfied: plotly in /usr/local/lib/python3.7/dist-packages (5.5.0)\n",
            "Requirement already satisfied: tenacity>=6.2.0 in /usr/local/lib/python3.7/dist-packages (from plotly) (8.0.1)\n",
            "Requirement already satisfied: six in /usr/local/lib/python3.7/dist-packages (from plotly) (1.15.0)\n",
            "Requirement already satisfied: py4j==0.10.9.3 in /usr/local/lib/python3.7/dist-packages (from pyspark[pandas_on_spark]) (0.10.9.3)\n",
            "Requirement already satisfied: pyarrow>=1.0.0 in /usr/local/lib/python3.7/dist-packages (from pyspark[pandas_on_spark]) (6.0.1)\n",
            "Requirement already satisfied: pandas>=0.23.2 in /usr/local/lib/python3.7/dist-packages (from pyspark[pandas_on_spark]) (1.3.5)\n",
            "Requirement already satisfied: numpy>=1.14 in /usr/local/lib/python3.7/dist-packages (from pyspark[pandas_on_spark]) (1.19.5)\n",
            "Requirement already satisfied: python-dateutil>=2.7.3 in /usr/local/lib/python3.7/dist-packages (from pandas>=0.23.2->pyspark[pandas_on_spark]) (2.8.2)\n",
            "Requirement already satisfied: pytz>=2017.3 in /usr/local/lib/python3.7/dist-packages (from pandas>=0.23.2->pyspark[pandas_on_spark]) (2018.9)\n"
          ]
        }
      ]
    },
    {
      "cell_type": "code",
      "execution_count": 2,
      "metadata": {
        "id": "_mmYU5QPnkxc"
      },
      "outputs": [],
      "source": [
        "from pyspark.sql import SparkSession\n",
        "spark = SparkSession.builder.getOrCreate()\n",
        "from pyspark.sql import Row"
      ]
    },
    {
      "cell_type": "code",
      "source": [
        "spark.conf.set('spark.sql.repl.eagerEval.enabled', True)"
      ],
      "metadata": {
        "id": "xbGtpDRTlI-G"
      },
      "execution_count": 3,
      "outputs": []
    },
    {
      "cell_type": "code",
      "source": [
        "from datetime import datetime, date\n",
        "import pandas as pd\n",
        "import os\n",
        "import random\n",
        "import numpy  as np\n",
        "import tensorflow as tf\n",
        "import matplotlib.pyplot as plt\n",
        "import tensorflow.keras as keras\n",
        "from tensorflow.keras.preprocessing import text\n",
        "from tensorflow.keras.preprocessing import sequence\n",
        "from tensorflow.keras import layers\n",
        "from sklearn.model_selection import train_test_split\n"
      ],
      "metadata": {
        "id": "6zWQh6RmoYyH"
      },
      "execution_count": 4,
      "outputs": []
    },
    {
      "cell_type": "markdown",
      "source": [
        "## Download and extract dataset\n"
      ],
      "metadata": {
        "id": "3iqDlcOTqCXi"
      }
    },
    {
      "cell_type": "code",
      "source": [
        "!wget http://ai.stanford.edu/~amaas/data/sentiment/aclImdb_v1.tar.gz\n",
        "!tar -xf aclImdb_v1.tar.gz"
      ],
      "metadata": {
        "id": "omOICmq4r0DJ"
      },
      "execution_count": null,
      "outputs": []
    },
    {
      "cell_type": "markdown",
      "source": [
        "##Load Dataset\n",
        "First up, let’s load the dataset into Python.\n",
        "\n"
      ],
      "metadata": {
        "id": "qXtMxu7Ijalk"
      }
    },
    {
      "cell_type": "markdown",
      "source": [
        "####Loads the IMDb movie reviews sentiment analysis dataset"
      ],
      "metadata": {
        "id": "24LrpsWQo_tv"
      }
    },
    {
      "cell_type": "code",
      "source": [
        "def load_imdb_sentiment_analysis_dataset(data_path, seed=123):\n",
        "    \"\"\"Loads the IMDb movie reviews sentiment analysis dataset.\n",
        "\n",
        "    # Arguments\n",
        "        data_path: string, path to the data directory.\n",
        "        seed: int, seed for randomizer.\n",
        "\n",
        "    # Returns\n",
        "        A tuple of training and validation data.\n",
        "        Number of training samples: 25000\n",
        "        Number of test samples: 25000\n",
        "        Number of categories: 2 (0 - negative, 1 - positive)\n",
        "\n",
        "    # References\n",
        "        Mass et al., http://www.aclweb.org/anthology/P11-1015\n",
        "\n",
        "        Download and uncompress archive from:\n",
        "        http://ai.stanford.edu/~amaas/data/sentiment/aclImdb_v1.tar.gz\n",
        "    \"\"\"\n",
        "    imdb_data_path = os.path.join(data_path, 'aclImdb')\n",
        "\n",
        "    # Load the training data\n",
        "    train_texts = []\n",
        "    train_labels = []\n",
        "    train_sentiment = []\n",
        "    for category in ['pos', 'neg']:\n",
        "        train_path = os.path.join(imdb_data_path, 'train', category)\n",
        "        print(train_path)\n",
        "        for fname in sorted(os.listdir(train_path)):\n",
        "            train_sentiment.append(fname.split(\".\")[0].split(\"_\")[1])\n",
        "            if fname.endswith('.txt'):\n",
        "                with open(os.path.join(train_path, fname)) as f:\n",
        "                    train_texts.append(f.read())\n",
        "                train_labels.append(0 if category == 'neg' else 1)\n",
        "\n",
        "    # Load the validation data.\n",
        "    test_texts = []\n",
        "    test_labels = []\n",
        "    test_sentiment = []\n",
        "    for category in ['pos', 'neg']:\n",
        "        test_path = os.path.join(imdb_data_path, 'test', category)\n",
        "        for fname in sorted(os.listdir(test_path)):\n",
        "            test_sentiment.append(fname.split(\".\")[0].split(\"_\")[1])\n",
        "            if fname.endswith('.txt'):\n",
        "                with open(os.path.join(test_path, fname)) as f:\n",
        "                    test_texts.append(f.read())\n",
        "                test_labels.append(0 if category == 'neg' else 1)\n",
        "    # Shuffle the training data and labels.\n",
        "    random.seed(seed)\n",
        "    random.shuffle(train_texts)\n",
        "    random.seed(seed)\n",
        "    random.shuffle(train_labels)\n",
        "    random.seed(seed)\n",
        "    random.shuffle(train_sentiment)\n",
        "\n",
        "    return train_texts+test_texts, np.array(train_labels+test_labels), train_sentiment+test_sentiment\n",
        "    #return train_texts, np.array(train_labels), train_sentiment, test_texts, np.array(test_labels), test_sentiment\n",
        "    #return ((train_texts, np.array(train_labels)),\n",
        "    #    (test_texts, np.array(test_labels)))"
      ],
      "metadata": {
        "id": "529Pt62yuQEG"
      },
      "execution_count": 6,
      "outputs": []
    },
    {
      "cell_type": "code",
      "source": [
        "def get_num_words_per_sample(sample_texts):\n",
        "    \"\"\"Returns the median number of words per sample given corpus.\n",
        "\n",
        "    # Arguments\n",
        "        sample_texts: list, sample texts.\n",
        "\n",
        "    # Returns\n",
        "        int, median number of words per sample.\n",
        "    \"\"\"\n",
        "    num_words = [len(s.split()) for s in sample_texts]\n",
        "    return np.median(num_words)\n",
        "\n",
        "def plot_sample_length_distribution(sample_texts):\n",
        "    \"\"\"Plots the sample length distribution.\n",
        "\n",
        "    # Arguments\n",
        "        samples_texts: list, sample texts.\n",
        "    \"\"\"\n",
        "    plt.hist([len(s) for s in sample_texts], 50)\n",
        "    plt.xlabel('Length of a sample')\n",
        "    plt.ylabel('Number of samples')\n",
        "    plt.title('Sample length distribution')\n",
        "    plt.show()"
      ],
      "metadata": {
        "id": "pNI3Qugqu_AI"
      },
      "execution_count": 7,
      "outputs": []
    },
    {
      "cell_type": "code",
      "source": [
        "train_texts, train_labels, train_sentiment = load_imdb_sentiment_analysis_dataset('/content', 123)"
      ],
      "metadata": {
        "colab": {
          "base_uri": "https://localhost:8080/"
        },
        "id": "2-jmD8ZLBLLm",
        "outputId": "df4ae9bd-b1f1-4c8d-dc5c-29803fa67714"
      },
      "execution_count": 8,
      "outputs": [
        {
          "output_type": "stream",
          "name": "stdout",
          "text": [
            "/content/aclImdb/train/pos\n",
            "/content/aclImdb/train/neg\n"
          ]
        }
      ]
    },
    {
      "cell_type": "markdown",
      "source": [
        "### Explore Data"
      ],
      "metadata": {
        "id": "Sa_u65wGo2Ao"
      }
    },
    {
      "cell_type": "code",
      "source": [
        "get_num_words_per_sample(sample_texts=train_texts)"
      ],
      "metadata": {
        "colab": {
          "base_uri": "https://localhost:8080/"
        },
        "id": "k3PPgxRwpFvp",
        "outputId": "9914a277-4a3a-4ebc-a4aa-5edd2607ebfa"
      },
      "execution_count": 9,
      "outputs": [
        {
          "output_type": "execute_result",
          "data": {
            "text/plain": [
              "173.0"
            ]
          },
          "metadata": {},
          "execution_count": 9
        }
      ]
    },
    {
      "cell_type": "code",
      "source": [
        "plot_sample_length_distribution(sample_texts=train_texts)"
      ],
      "metadata": {
        "colab": {
          "base_uri": "https://localhost:8080/",
          "height": 294
        },
        "id": "EwIXXt71Ln1d",
        "outputId": "50744d36-f6c0-41b1-b91c-fed9af19b6b5"
      },
      "execution_count": 10,
      "outputs": [
        {
          "output_type": "display_data",
          "data": {
            "image/png": "[encoded data removed]",
            "text/plain": [
              "<Figure size 432x288 with 1 Axes>"
            ]
          },
          "metadata": {
            "needs_background": "light"
          }
        }
      ]
    },
    {
      "cell_type": "markdown",
      "source": [
        "###Create a dataframe with following schema and loaded data"
      ],
      "metadata": {
        "id": "izh3URTxjm0Q"
      }
    },
    {
      "cell_type": "markdown",
      "source": [
        "We are using panda Dataframe for more performance"
      ],
      "metadata": {
        "id": "v-2WAcOEoJBd"
      }
    },
    {
      "cell_type": "code",
      "source": [
        "# Calling DataFrame constructor after zipping\n",
        "# both lists, with columns specified\n",
        "train_df = pd.DataFrame(list(zip(train_texts, train_labels,train_sentiment)),\n",
        "               columns =['content', 'label', 'sentiment'])\n",
        "train_df"
      ],
      "metadata": {
        "colab": {
          "base_uri": "https://localhost:8080/",
          "height": 423
        },
        "id": "vbUGdmXbcr93",
        "outputId": "4a809a4f-0202-460d-af0d-e196c4c6948d"
      },
      "execution_count": 11,
      "outputs": [
        {
          "output_type": "execute_result",
          "data": {
            "text/html": [
              "\n",
              "  <div id=\"df-cb16ec12-bf34-4add-9fdf-32891062f7b5\">\n",
              "    <div class=\"colab-df-container\">\n",
              "      <div>\n",
              "<style scoped>\n",
              "    .dataframe tbody tr th:only-of-type {\n",
              "        vertical-align: middle;\n",
              "    }\n",
              "\n",
              "    .dataframe tbody tr th {\n",
              "        vertical-align: top;\n",
              "    }\n",
              "\n",
              "    .dataframe thead th {\n",
              "        text-align: right;\n",
              "    }\n",
              "</style>\n",
              "<table border=\"1\" class=\"dataframe\">\n",
              "  <thead>\n",
              "    <tr style=\"text-align: right;\">\n",
              "      <th></th>\n",
              "      <th>content</th>\n",
              "      <th>label</th>\n",
              "      <th>sentiment</th>\n",
              "    </tr>\n",
              "  </thead>\n",
              "  <tbody>\n",
              "    <tr>\n",
              "      <th>0</th>\n",
              "      <td>Once again Mr. Costner has dragged out a movie...</td>\n",
              "      <td>0</td>\n",
              "      <td>2</td>\n",
              "    </tr>\n",
              "    <tr>\n",
              "      <th>1</th>\n",
              "      <td>First of all, I would like to say that I am a ...</td>\n",
              "      <td>0</td>\n",
              "      <td>3</td>\n",
              "    </tr>\n",
              "    <tr>\n",
              "      <th>2</th>\n",
              "      <td>I'm a huge fan of both Emily Watson (Breaking ...</td>\n",
              "      <td>0</td>\n",
              "      <td>4</td>\n",
              "    </tr>\n",
              "    <tr>\n",
              "      <th>3</th>\n",
              "      <td>I was pulled into this movie early on, much to...</td>\n",
              "      <td>0</td>\n",
              "      <td>3</td>\n",
              "    </tr>\n",
              "    <tr>\n",
              "      <th>4</th>\n",
              "      <td>This tale of the upper-classes getting their c...</td>\n",
              "      <td>0</td>\n",
              "      <td>4</td>\n",
              "    </tr>\n",
              "    <tr>\n",
              "      <th>...</th>\n",
              "      <td>...</td>\n",
              "      <td>...</td>\n",
              "      <td>...</td>\n",
              "    </tr>\n",
              "    <tr>\n",
              "      <th>8637</th>\n",
              "      <td>Writer &amp; director Robert Downey, Sr., a pionee...</td>\n",
              "      <td>0</td>\n",
              "      <td>3</td>\n",
              "    </tr>\n",
              "    <tr>\n",
              "      <th>8638</th>\n",
              "      <td>Starting with a tearjerking poem and images of...</td>\n",
              "      <td>0</td>\n",
              "      <td>2</td>\n",
              "    </tr>\n",
              "    <tr>\n",
              "      <th>8639</th>\n",
              "      <td>The basic genre is a thriller intercut with an...</td>\n",
              "      <td>0</td>\n",
              "      <td>3</td>\n",
              "    </tr>\n",
              "    <tr>\n",
              "      <th>8640</th>\n",
              "      <td>Four things intrigued me as to this film - fir...</td>\n",
              "      <td>0</td>\n",
              "      <td>3</td>\n",
              "    </tr>\n",
              "    <tr>\n",
              "      <th>8641</th>\n",
              "      <td>David Bryce's comments nearby are exceptionall...</td>\n",
              "      <td>0</td>\n",
              "      <td>4</td>\n",
              "    </tr>\n",
              "  </tbody>\n",
              "</table>\n",
              "<p>8642 rows × 3 columns</p>\n",
              "</div>\n",
              "      <button class=\"colab-df-convert\" onclick=\"convertToInteractive('df-cb16ec12-bf34-4add-9fdf-32891062f7b5')\"\n",
              "              title=\"Convert this dataframe to an interactive table.\"\n",
              "              style=\"display:none;\">\n",
              "        \n",
              "  <svg xmlns=\"http://www.w3.org/2000/svg\" height=\"24px\"viewBox=\"0 0 24 24\"\n",
              "       width=\"24px\">\n",
              "    <path d=\"M0 0h24v24H0V0z\" fill=\"none\"/>\n",
              "    <path d=\"M18.56 5.44l.94 2.06.94-2.06 2.06-.94-2.06-.94-.94-2.06-.94 2.06-2.06.94zm-11 1L8.5 8.5l.94-2.06 2.06-.94-2.06-.94L8.5 2.5l-.94 2.06-2.06.94zm10 10l.94 2.06.94-2.06 2.06-.94-2.06-.94-.94-2.06-.94 2.06-2.06.94z\"/><path d=\"M17.41 7.96l-1.37-1.37c-.4-.4-.92-.59-1.43-.59-.52 0-1.04.2-1.43.59L10.3 9.45l-7.72 7.72c-.78.78-.78 2.05 0 2.83L4 21.41c.39.39.9.59 1.41.59.51 0 1.02-.2 1.41-.59l7.78-7.78 2.81-2.81c.8-.78.8-2.07 0-2.86zM5.41 20L4 18.59l7.72-7.72 1.47 1.35L5.41 20z\"/>\n",
              "  </svg>\n",
              "      </button>\n",
              "      \n",
              "  <style>\n",
              "    .colab-df-container {\n",
              "      display:flex;\n",
              "      flex-wrap:wrap;\n",
              "      gap: 12px;\n",
              "    }\n",
              "\n",
              "    .colab-df-convert {\n",
              "      background-color: #E8F0FE;\n",
              "      border: none;\n",
              "      border-radius: 50%;\n",
              "      cursor: pointer;\n",
              "      display: none;\n",
              "      fill: #1967D2;\n",
              "      height: 32px;\n",
              "      padding: 0 0 0 0;\n",
              "      width: 32px;\n",
              "    }\n",
              "\n",
              "    .colab-df-convert:hover {\n",
              "      background-color: #E2EBFA;\n",
              "      box-shadow: 0px 1px 2px rgba(60, 64, 67, 0.3), 0px 1px 3px 1px rgba(60, 64, 67, 0.15);\n",
              "      fill: #174EA6;\n",
              "    }\n",
              "\n",
              "    [theme=dark] .colab-df-convert {\n",
              "      background-color: #3B4455;\n",
              "      fill: #D2E3FC;\n",
              "    }\n",
              "\n",
              "    [theme=dark] .colab-df-convert:hover {\n",
              "      background-color: #434B5C;\n",
              "      box-shadow: 0px 1px 3px 1px rgba(0, 0, 0, 0.15);\n",
              "      filter: drop-shadow(0px 1px 2px rgba(0, 0, 0, 0.3));\n",
              "      fill: #FFFFFF;\n",
              "    }\n",
              "  </style>\n",
              "\n",
              "      <script>\n",
              "        const buttonEl =\n",
              "          document.querySelector('#df-cb16ec12-bf34-4add-9fdf-32891062f7b5 button.colab-df-convert');\n",
              "        buttonEl.style.display =\n",
              "          google.colab.kernel.accessAllowed ? 'block' : 'none';\n",
              "\n",
              "        async function convertToInteractive(key) {\n",
              "          const element = document.querySelector('#df-cb16ec12-bf34-4add-9fdf-32891062f7b5');\n",
              "          const dataTable =\n",
              "            await google.colab.kernel.invokeFunction('convertToInteractive',\n",
              "                                                     [key], {});\n",
              "          if (!dataTable) return;\n",
              "\n",
              "          const docLinkHtml = 'Like what you see? Visit the ' +\n",
              "            '<a target=\"_blank\" href=https://colab.research.google.com/notebooks/data_table.ipynb>data table notebook</a>'\n",
              "            + ' to learn more about interactive tables.';\n",
              "          element.innerHTML = '';\n",
              "          dataTable['output_type'] = 'display_data';\n",
              "          await google.colab.output.renderOutput(dataTable, element);\n",
              "          const docLink = document.createElement('div');\n",
              "          docLink.innerHTML = docLinkHtml;\n",
              "          element.appendChild(docLink);\n",
              "        }\n",
              "      </script>\n",
              "    </div>\n",
              "  </div>\n",
              "  "
            ],
            "text/plain": [
              "                                                content  label sentiment\n",
              "0     Once again Mr. Costner has dragged out a movie...      0         2\n",
              "1     First of all, I would like to say that I am a ...      0         3\n",
              "2     I'm a huge fan of both Emily Watson (Breaking ...      0         4\n",
              "3     I was pulled into this movie early on, much to...      0         3\n",
              "4     This tale of the upper-classes getting their c...      0         4\n",
              "...                                                 ...    ...       ...\n",
              "8637  Writer & director Robert Downey, Sr., a pionee...      0         3\n",
              "8638  Starting with a tearjerking poem and images of...      0         2\n",
              "8639  The basic genre is a thriller intercut with an...      0         3\n",
              "8640  Four things intrigued me as to this film - fir...      0         3\n",
              "8641  David Bryce's comments nearby are exceptionall...      0         4\n",
              "\n",
              "[8642 rows x 3 columns]"
            ]
          },
          "metadata": {},
          "execution_count": 11
        }
      ]
    },
    {
      "cell_type": "code",
      "source": [
        "df = spark.createDataFrame(list(zip(train_texts, train_labels, train_sentiment)), schema='content string, label string, sentiment string')\n",
        "df.printSchema()"
      ],
      "metadata": {
        "id": "lPQoGuiAogw8",
        "colab": {
          "base_uri": "https://localhost:8080/"
        },
        "outputId": "28bb1247-c324-43a2-ebfb-dd36726ace34"
      },
      "execution_count": 12,
      "outputs": [
        {
          "output_type": "stream",
          "name": "stdout",
          "text": [
            "root\n",
            " |-- content: string (nullable = true)\n",
            " |-- label: string (nullable = true)\n",
            " |-- sentiment: string (nullable = true)\n",
            "\n"
          ]
        }
      ]
    },
    {
      "cell_type": "code",
      "source": [
        "#Takes too much time, do not try it Meltem :)\n",
        "#df.cache()"
      ],
      "metadata": {
        "id": "H0XPFzXRpaLF"
      },
      "execution_count": null,
      "outputs": []
    },
    {
      "cell_type": "code",
      "source": [
        "import nltk\n",
        "nltk.download('stopwords')\n",
        "nltk.download('punkt')\n",
        "import re"
      ],
      "metadata": {
        "colab": {
          "base_uri": "https://localhost:8080/"
        },
        "id": "xSXG03oQQmPC",
        "outputId": "327b83fe-ac27-42ba-ebcb-498a38ac1bfa"
      },
      "execution_count": null,
      "outputs": [
        {
          "output_type": "stream",
          "name": "stdout",
          "text": [
            "[nltk_data] Downloading package stopwords to /root/nltk_data...\n",
            "[nltk_data]   Package stopwords is already up-to-date!\n",
            "[nltk_data] Downloading package punkt to /root/nltk_data...\n",
            "[nltk_data]   Unzipping tokenizers/punkt.zip.\n"
          ]
        }
      ]
    },
    {
      "cell_type": "code",
      "source": [
        "WPT = nltk.WordPunctTokenizer()\n",
        "stop_word_list = nltk.corpus.stopwords.words('english')\n",
        "stop_word_list"
      ],
      "metadata": {
        "colab": {
          "base_uri": "https://localhost:8080/"
        },
        "id": "3CT8JnZlQoX4",
        "outputId": "40c9ef72-3c2f-40e8-d8f7-42a8f385bc6f"
      },
      "execution_count": null,
      "outputs": [
        {
          "output_type": "execute_result",
          "data": {
            "text/plain": [
              "['i',\n",
              " 'me',\n",
              " 'my',\n",
              " 'myself',\n",
              " 'we',\n",
              " 'our',\n",
              " 'ours',\n",
              " 'ourselves',\n",
              " 'you',\n",
              " \"you're\",\n",
              " \"you've\",\n",
              " \"you'll\",\n",
              " \"you'd\",\n",
              " 'your',\n",
              " 'yours',\n",
              " 'yourself',\n",
              " 'yourselves',\n",
              " 'he',\n",
              " 'him',\n",
              " 'his',\n",
              " 'himself',\n",
              " 'she',\n",
              " \"she's\",\n",
              " 'her',\n",
              " 'hers',\n",
              " 'herself',\n",
              " 'it',\n",
              " \"it's\",\n",
              " 'its',\n",
              " 'itself',\n",
              " 'they',\n",
              " 'them',\n",
              " 'their',\n",
              " 'theirs',\n",
              " 'themselves',\n",
              " 'what',\n",
              " 'which',\n",
              " 'who',\n",
              " 'whom',\n",
              " 'this',\n",
              " 'that',\n",
              " \"that'll\",\n",
              " 'these',\n",
              " 'those',\n",
              " 'am',\n",
              " 'is',\n",
              " 'are',\n",
              " 'was',\n",
              " 'were',\n",
              " 'be',\n",
              " 'been',\n",
              " 'being',\n",
              " 'have',\n",
              " 'has',\n",
              " 'had',\n",
              " 'having',\n",
              " 'do',\n",
              " 'does',\n",
              " 'did',\n",
              " 'doing',\n",
              " 'a',\n",
              " 'an',\n",
              " 'the',\n",
              " 'and',\n",
              " 'but',\n",
              " 'if',\n",
              " 'or',\n",
              " 'because',\n",
              " 'as',\n",
              " 'until',\n",
              " 'while',\n",
              " 'of',\n",
              " 'at',\n",
              " 'by',\n",
              " 'for',\n",
              " 'with',\n",
              " 'about',\n",
              " 'against',\n",
              " 'between',\n",
              " 'into',\n",
              " 'through',\n",
              " 'during',\n",
              " 'before',\n",
              " 'after',\n",
              " 'above',\n",
              " 'below',\n",
              " 'to',\n",
              " 'from',\n",
              " 'up',\n",
              " 'down',\n",
              " 'in',\n",
              " 'out',\n",
              " 'on',\n",
              " 'off',\n",
              " 'over',\n",
              " 'under',\n",
              " 'again',\n",
              " 'further',\n",
              " 'then',\n",
              " 'once',\n",
              " 'here',\n",
              " 'there',\n",
              " 'when',\n",
              " 'where',\n",
              " 'why',\n",
              " 'how',\n",
              " 'all',\n",
              " 'any',\n",
              " 'both',\n",
              " 'each',\n",
              " 'few',\n",
              " 'more',\n",
              " 'most',\n",
              " 'other',\n",
              " 'some',\n",
              " 'such',\n",
              " 'no',\n",
              " 'nor',\n",
              " 'not',\n",
              " 'only',\n",
              " 'own',\n",
              " 'same',\n",
              " 'so',\n",
              " 'than',\n",
              " 'too',\n",
              " 'very',\n",
              " 's',\n",
              " 't',\n",
              " 'can',\n",
              " 'will',\n",
              " 'just',\n",
              " 'don',\n",
              " \"don't\",\n",
              " 'should',\n",
              " \"should've\",\n",
              " 'now',\n",
              " 'd',\n",
              " 'll',\n",
              " 'm',\n",
              " 'o',\n",
              " 're',\n",
              " 've',\n",
              " 'y',\n",
              " 'ain',\n",
              " 'aren',\n",
              " \"aren't\",\n",
              " 'couldn',\n",
              " \"couldn't\",\n",
              " 'didn',\n",
              " \"didn't\",\n",
              " 'doesn',\n",
              " \"doesn't\",\n",
              " 'hadn',\n",
              " \"hadn't\",\n",
              " 'hasn',\n",
              " \"hasn't\",\n",
              " 'haven',\n",
              " \"haven't\",\n",
              " 'isn',\n",
              " \"isn't\",\n",
              " 'ma',\n",
              " 'mightn',\n",
              " \"mightn't\",\n",
              " 'mustn',\n",
              " \"mustn't\",\n",
              " 'needn',\n",
              " \"needn't\",\n",
              " 'shan',\n",
              " \"shan't\",\n",
              " 'shouldn',\n",
              " \"shouldn't\",\n",
              " 'wasn',\n",
              " \"wasn't\",\n",
              " 'weren',\n",
              " \"weren't\",\n",
              " 'won',\n",
              " \"won't\",\n",
              " 'wouldn',\n",
              " \"wouldn't\"]"
            ]
          },
          "metadata": {},
          "execution_count": 12
        }
      ]
    },
    {
      "cell_type": "code",
      "source": [
        "#verimizde bulunan noktalama işaretlerinin temizlenme işlemi\n",
        "train_df['content'] = train_df['content'].apply(lambda x: re.sub('[,\\.!?:()\"]', '', x))\n",
        "train_df['content']"
      ],
      "metadata": {
        "colab": {
          "base_uri": "https://localhost:8080/"
        },
        "id": "as1D11faREi6",
        "outputId": "c7ba311c-a0b4-403e-eb87-2b60f9744a39"
      },
      "execution_count": null,
      "outputs": [
        {
          "output_type": "execute_result",
          "data": {
            "text/plain": [
              "0        POSSIBLE SPOILERS<br /><br />The Spy Who Shagg...\n",
              "1        The long list of big names in this flick inclu...\n",
              "2        Bette Midler showcases her talents and beauty ...\n",
              "3        Great movie when I saw it Have to say one of m...\n",
              "4        Although it's most certainly politically incor...\n",
              "                               ...                        \n",
              "49995    I occasionally let my kids watch this garbage ...\n",
              "49996    When all we have anymore is pretty much realit...\n",
              "49997    The basic genre is a thriller intercut with an...\n",
              "49998    Four things intrigued me as to this film - fir...\n",
              "49999    David Bryce's comments nearby are exceptionall...\n",
              "Name: content, Length: 50000, dtype: object"
            ]
          },
          "metadata": {},
          "execution_count": 13
        }
      ]
    },
    {
      "cell_type": "code",
      "source": [
        "#büyük harflerin küçük harfe çevrilmesi\n",
        "train_df['content'] = train_df['content'].apply(lambda x: x.lower())\n",
        "train_df['content']"
      ],
      "metadata": {
        "colab": {
          "base_uri": "https://localhost:8080/"
        },
        "id": "OfYl7KfARVvY",
        "outputId": "a11fe817-c2f0-45eb-a710-620b3511faa3"
      },
      "execution_count": null,
      "outputs": [
        {
          "output_type": "execute_result",
          "data": {
            "text/plain": [
              "0        possible spoilers<br /><br />the spy who shagg...\n",
              "1        the long list of big names in this flick inclu...\n",
              "2        bette midler showcases her talents and beauty ...\n",
              "3        great movie when i saw it have to say one of m...\n",
              "4        although it's most certainly politically incor...\n",
              "                               ...                        \n",
              "49995    i occasionally let my kids watch this garbage ...\n",
              "49996    when all we have anymore is pretty much realit...\n",
              "49997    the basic genre is a thriller intercut with an...\n",
              "49998    four things intrigued me as to this film - fir...\n",
              "49999    david bryce's comments nearby are exceptionall...\n",
              "Name: content, Length: 50000, dtype: object"
            ]
          },
          "metadata": {},
          "execution_count": 14
        }
      ]
    },
    {
      "cell_type": "code",
      "source": [
        "train_df['content'] = train_df['content'].apply(lambda x: x.strip())\n",
        "train_df['content']"
      ],
      "metadata": {
        "colab": {
          "base_uri": "https://localhost:8080/"
        },
        "id": "FVikcw5LRdZ8",
        "outputId": "99ba2549-c318-470a-c868-b0dd6fe8ced2"
      },
      "execution_count": null,
      "outputs": [
        {
          "output_type": "execute_result",
          "data": {
            "text/plain": [
              "0        possible spoilers<br /><br />the spy who shagg...\n",
              "1        the long list of big names in this flick inclu...\n",
              "2        bette midler showcases her talents and beauty ...\n",
              "3        great movie when i saw it have to say one of m...\n",
              "4        although it's most certainly politically incor...\n",
              "                               ...                        \n",
              "49995    i occasionally let my kids watch this garbage ...\n",
              "49996    when all we have anymore is pretty much realit...\n",
              "49997    the basic genre is a thriller intercut with an...\n",
              "49998    four things intrigued me as to this film - fir...\n",
              "49999    david bryce's comments nearby are exceptionall...\n",
              "Name: content, Length: 50000, dtype: object"
            ]
          },
          "metadata": {},
          "execution_count": 15
        }
      ]
    },
    {
      "cell_type": "code",
      "source": [
        "train_df['content'] = train_df['content'].str.replace(r'<[^<>]*>', '', regex=True)\n",
        "train_df['content']"
      ],
      "metadata": {
        "colab": {
          "base_uri": "https://localhost:8080/"
        },
        "id": "Cefqz5MpRsC6",
        "outputId": "abff3f4f-ce80-4e7b-d298-d2581ebcc8b2"
      },
      "execution_count": null,
      "outputs": [
        {
          "output_type": "execute_result",
          "data": {
            "text/plain": [
              "0        possible spoilersthe spy who shagged me is a m...\n",
              "1        the long list of big names in this flick inclu...\n",
              "2        bette midler showcases her talents and beauty ...\n",
              "3        great movie when i saw it have to say one of m...\n",
              "4        although it's most certainly politically incor...\n",
              "                               ...                        \n",
              "49995    i occasionally let my kids watch this garbage ...\n",
              "49996    when all we have anymore is pretty much realit...\n",
              "49997    the basic genre is a thriller intercut with an...\n",
              "49998    four things intrigued me as to this film - fir...\n",
              "49999    david bryce's comments nearby are exceptionall...\n",
              "Name: content, Length: 50000, dtype: object"
            ]
          },
          "metadata": {},
          "execution_count": 16
        }
      ]
    },
    {
      "cell_type": "code",
      "source": [
        "#cümleler içerisinde bulunan stopword'lerin kaldırılması\n",
        "def token(values):\n",
        "    words = nltk.tokenize.word_tokenize(values)\n",
        "    filtered_words = [word for word in words if word not in stop_word_list]\n",
        "    not_stopword_doc = \" \".join(filtered_words)\n",
        "    return not_stopword_doc"
      ],
      "metadata": {
        "id": "DVheCxyBR3Z4"
      },
      "execution_count": null,
      "outputs": []
    },
    {
      "cell_type": "code",
      "source": [
        "train_df['content'] = train_df['content'].apply(lambda x: token(x))\n",
        "train_df['content']"
      ],
      "metadata": {
        "colab": {
          "base_uri": "https://localhost:8080/"
        },
        "id": "lc7jOwbMR48K",
        "outputId": "860c0cf0-7315-4ae0-8692-1b1c32cc512c"
      },
      "execution_count": null,
      "outputs": [
        {
          "output_type": "execute_result",
          "data": {
            "text/plain": [
              "0        possible spoilersthe spy shagged muchly overra...\n",
              "1        long list big names flick including ubiquitous...\n",
              "2        bette midler showcases talents beauty diva las...\n",
              "3        great movie saw say one favorite movies time s...\n",
              "4        although 's certainly politically incorrect en...\n",
              "                               ...                        \n",
              "49995    occasionally let kids watch garbage understand...\n",
              "49996    anymore pretty much reality tv shows people ma...\n",
              "49997    basic genre thriller intercut uncomfortable me...\n",
              "49998    four things intrigued film - firstly stars car...\n",
              "49999    david bryce 's comments nearby exceptionally w...\n",
              "Name: content, Length: 50000, dtype: object"
            ]
          },
          "metadata": {},
          "execution_count": 20
        }
      ]
    },
    {
      "cell_type": "markdown",
      "source": [
        "##Hyper-parameters\n",
        "First, we set some hyper-parameters needed for the data preprocessing and model training."
      ],
      "metadata": {
        "id": "CSWxpR_HTuoE"
      }
    },
    {
      "cell_type": "code",
      "source": [
        "hparams = {\n",
        "    \"batch_size\": 512,\n",
        "    \"cnn_filter_sizes\": [128, 128, 128],\n",
        "    \"cnn_kernel_sizes\": [5, 5, 5],\n",
        "    \"cnn_pooling_sizes\": [5, 5, 40],\n",
        "    \"constraint_learning_rate\": 0.01,\n",
        "    \"embedding_dim\": 100,\n",
        "    \"embedding_trainable\": False,\n",
        "    \"learning_rate\": 0.005,\n",
        "    \"max_num_words\": 10000,\n",
        "    \"max_sequence_length\": 250\n",
        "}"
      ],
      "metadata": {
        "id": "_sk5CVwWTsV3"
      },
      "execution_count": null,
      "outputs": []
    },
    {
      "cell_type": "markdown",
      "source": [
        "Daha sonra verinin içerisinden en çok kullanılan 10000 kelimeye göre bir sözlük oluşturuyoruz. Tabi bu sayıyı belirlemek size kalmış veriye göre değişkenlik gösterebilir."
      ],
      "metadata": {
        "id": "Zy-hSudlWudB"
      }
    },
    {
      "cell_type": "code",
      "source": [
        "tokenizer = text.Tokenizer(num_words=hparams[\"max_num_words\"])\n",
        "tokenizer.fit_on_texts(train_df['content'])\n",
        "tokenizer.word_index"
      ],
      "metadata": {
        "id": "sfUIIgYXTxNN",
        "colab": {
          "base_uri": "https://localhost:8080/"
        },
        "outputId": "e7facccf-0d1f-4f24-f3e9-8835942065b7"
      },
      "execution_count": null,
      "outputs": [
        {
          "output_type": "execute_result",
          "data": {
            "text/plain": [
              "{\"'s\": 1,\n",
              " 'movie': 2,\n",
              " 'film': 3,\n",
              " \"n't\": 4,\n",
              " 'one': 5,\n",
              " 'like': 6,\n",
              " 'good': 7,\n",
              " 'would': 8,\n",
              " 'even': 9,\n",
              " 'time': 10,\n",
              " 'really': 11,\n",
              " 'see': 12,\n",
              " 'story': 13,\n",
              " 'well': 14,\n",
              " 'much': 15,\n",
              " \"'\": 16,\n",
              " 'could': 17,\n",
              " 'get': 18,\n",
              " 'bad': 19,\n",
              " 'people': 20,\n",
              " 'great': 21,\n",
              " 'also': 22,\n",
              " 'first': 23,\n",
              " 'made': 24,\n",
              " 'make': 25,\n",
              " 'way': 26,\n",
              " 'movies': 27,\n",
              " 'think': 28,\n",
              " 'characters': 29,\n",
              " 'character': 30,\n",
              " 'watch': 31,\n",
              " 'films': 32,\n",
              " 'two': 33,\n",
              " 'many': 34,\n",
              " 'seen': 35,\n",
              " 'never': 36,\n",
              " 'love': 37,\n",
              " 'plot': 38,\n",
              " 'acting': 39,\n",
              " 'life': 40,\n",
              " 'best': 41,\n",
              " 'show': 42,\n",
              " 'little': 43,\n",
              " 'know': 44,\n",
              " 'ever': 45,\n",
              " 'man': 46,\n",
              " 'better': 47,\n",
              " 'scene': 48,\n",
              " 'end': 49,\n",
              " 'say': 50,\n",
              " 'still': 51,\n",
              " 'scenes': 52,\n",
              " \"'ve\": 53,\n",
              " 'something': 54,\n",
              " 'go': 55,\n",
              " 'back': 56,\n",
              " \"'m\": 57,\n",
              " 'real': 58,\n",
              " 'watching': 59,\n",
              " 'thing': 60,\n",
              " 'actors': 61,\n",
              " 'old': 62,\n",
              " 'years': 63,\n",
              " 'director': 64,\n",
              " 'funny': 65,\n",
              " 'though': 66,\n",
              " 'actually': 67,\n",
              " 'makes': 68,\n",
              " 'work': 69,\n",
              " 'another': 70,\n",
              " 'find': 71,\n",
              " 'nothing': 72,\n",
              " 'look': 73,\n",
              " 'going': 74,\n",
              " 'new': 75,\n",
              " 'lot': 76,\n",
              " '10': 77,\n",
              " 'every': 78,\n",
              " 'part': 79,\n",
              " 'us': 80,\n",
              " \"'re\": 81,\n",
              " 'want': 82,\n",
              " 'cast': 83,\n",
              " 'quite': 84,\n",
              " 'world': 85,\n",
              " 'got': 86,\n",
              " 'pretty': 87,\n",
              " 'things': 88,\n",
              " 'horror': 89,\n",
              " 'around': 90,\n",
              " 'seems': 91,\n",
              " 'ca': 92,\n",
              " 'young': 93,\n",
              " 'take': 94,\n",
              " 'big': 95,\n",
              " 'thought': 96,\n",
              " 'fact': 97,\n",
              " 'enough': 98,\n",
              " 'long': 99,\n",
              " 'give': 100,\n",
              " 'may': 101,\n",
              " 'must': 102,\n",
              " 'however': 103,\n",
              " 'series': 104,\n",
              " 'comedy': 105,\n",
              " 'action': 106,\n",
              " 'without': 107,\n",
              " 'right': 108,\n",
              " 'saw': 109,\n",
              " 'always': 110,\n",
              " 'guy': 111,\n",
              " 'music': 112,\n",
              " 'original': 113,\n",
              " 'gets': 114,\n",
              " 'almost': 115,\n",
              " 'come': 116,\n",
              " 'times': 117,\n",
              " 'role': 118,\n",
              " 'whole': 119,\n",
              " 'least': 120,\n",
              " 'interesting': 121,\n",
              " 'point': 122,\n",
              " 'done': 123,\n",
              " 'far': 124,\n",
              " 'bit': 125,\n",
              " 'tv': 126,\n",
              " 'feel': 127,\n",
              " 'might': 128,\n",
              " 'script': 129,\n",
              " 'family': 130,\n",
              " \"'ll\": 131,\n",
              " 'minutes': 132,\n",
              " 'making': 133,\n",
              " 'anything': 134,\n",
              " 'last': 135,\n",
              " 'since': 136,\n",
              " 'probably': 137,\n",
              " 'kind': 138,\n",
              " 'performance': 139,\n",
              " 'girl': 140,\n",
              " 'away': 141,\n",
              " 'yet': 142,\n",
              " 'anyone': 143,\n",
              " 'worst': 144,\n",
              " 'woman': 145,\n",
              " 'rather': 146,\n",
              " 'hard': 147,\n",
              " 'fun': 148,\n",
              " 'found': 149,\n",
              " 'sure': 150,\n",
              " 'played': 151,\n",
              " '2': 152,\n",
              " 'day': 153,\n",
              " 'looking': 154,\n",
              " 'believe': 155,\n",
              " 'especially': 156,\n",
              " 'trying': 157,\n",
              " 'dvd': 158,\n",
              " 'screen': 159,\n",
              " 'course': 160,\n",
              " 'comes': 161,\n",
              " 'goes': 162,\n",
              " 'put': 163,\n",
              " 'set': 164,\n",
              " 'everything': 165,\n",
              " 'shows': 166,\n",
              " 'although': 167,\n",
              " 'book': 168,\n",
              " 'worth': 169,\n",
              " 'three': 170,\n",
              " 'main': 171,\n",
              " 'different': 172,\n",
              " 'ending': 173,\n",
              " 'place': 174,\n",
              " 'actor': 175,\n",
              " 'someone': 176,\n",
              " 'american': 177,\n",
              " \"'d\": 178,\n",
              " 'looks': 179,\n",
              " 'let': 180,\n",
              " 'watched': 181,\n",
              " 'maybe': 182,\n",
              " 'sense': 183,\n",
              " 'play': 184,\n",
              " 'reason': 185,\n",
              " 'effects': 186,\n",
              " 'true': 187,\n",
              " 'year': 188,\n",
              " 'money': 189,\n",
              " 'everyone': 190,\n",
              " 'job': 191,\n",
              " 'war': 192,\n",
              " 'plays': 193,\n",
              " 'together': 194,\n",
              " 'high': 195,\n",
              " 'half': 196,\n",
              " 'takes': 197,\n",
              " 'said': 198,\n",
              " 'seem': 199,\n",
              " 'audience': 200,\n",
              " 'left': 201,\n",
              " 'instead': 202,\n",
              " 'special': 203,\n",
              " 'beautiful': 204,\n",
              " 'black': 205,\n",
              " 'seeing': 206,\n",
              " 'later': 207,\n",
              " 'night': 208,\n",
              " 'john': 209,\n",
              " 'wife': 210,\n",
              " 'version': 211,\n",
              " 'shot': 212,\n",
              " 'excellent': 213,\n",
              " 'idea': 214,\n",
              " 'house': 215,\n",
              " 'star': 216,\n",
              " 'fan': 217,\n",
              " 'else': 218,\n",
              " 'used': 219,\n",
              " 'mind': 220,\n",
              " 'simply': 221,\n",
              " 'completely': 222,\n",
              " 'father': 223,\n",
              " 'nice': 224,\n",
              " 'short': 225,\n",
              " 'budget': 226,\n",
              " 'death': 227,\n",
              " 'read': 228,\n",
              " 'poor': 229,\n",
              " 'men': 230,\n",
              " 'second': 231,\n",
              " 'less': 232,\n",
              " 'top': 233,\n",
              " 'along': 234,\n",
              " 'help': 235,\n",
              " 'hollywood': 236,\n",
              " 'home': 237,\n",
              " 'line': 238,\n",
              " 'dead': 239,\n",
              " 'kids': 240,\n",
              " 'need': 241,\n",
              " 'use': 242,\n",
              " 'friends': 243,\n",
              " 'low': 244,\n",
              " 'camera': 245,\n",
              " 'try': 246,\n",
              " 'given': 247,\n",
              " 'full': 248,\n",
              " 'production': 249,\n",
              " 'enjoy': 250,\n",
              " 'women': 251,\n",
              " 'boring': 252,\n",
              " 'school': 253,\n",
              " 'classic': 254,\n",
              " 'either': 255,\n",
              " 'couple': 256,\n",
              " 'rest': 257,\n",
              " 'truly': 258,\n",
              " 'wrong': 259,\n",
              " 'performances': 260,\n",
              " 'video': 261,\n",
              " 'recommend': 262,\n",
              " 'stupid': 263,\n",
              " 'start': 264,\n",
              " 'next': 265,\n",
              " '1': 266,\n",
              " 'sex': 267,\n",
              " 'tell': 268,\n",
              " 'came': 269,\n",
              " 'getting': 270,\n",
              " 'awful': 271,\n",
              " 'remember': 272,\n",
              " 'understand': 273,\n",
              " 'mean': 274,\n",
              " '3': 275,\n",
              " 'terrible': 276,\n",
              " 'keep': 277,\n",
              " 'name': 278,\n",
              " 'human': 279,\n",
              " 'moments': 280,\n",
              " 'person': 281,\n",
              " 'playing': 282,\n",
              " 'small': 283,\n",
              " 'wonderful': 284,\n",
              " 'face': 285,\n",
              " 'perhaps': 286,\n",
              " 'mother': 287,\n",
              " 'style': 288,\n",
              " 'early': 289,\n",
              " 'perfect': 290,\n",
              " 'often': 291,\n",
              " 'episode': 292,\n",
              " 'gives': 293,\n",
              " 'boy': 294,\n",
              " 'written': 295,\n",
              " 'head': 296,\n",
              " 'others': 297,\n",
              " 'definitely': 298,\n",
              " 'stars': 299,\n",
              " 'lines': 300,\n",
              " 'piece': 301,\n",
              " 'went': 302,\n",
              " 'dialogue': 303,\n",
              " 'children': 304,\n",
              " 'absolutely': 305,\n",
              " 'live': 306,\n",
              " 'certainly': 307,\n",
              " 'become': 308,\n",
              " 'liked': 309,\n",
              " 'case': 310,\n",
              " 'sort': 311,\n",
              " 'friend': 312,\n",
              " 'loved': 313,\n",
              " 'called': 314,\n",
              " 'laugh': 315,\n",
              " 'hope': 316,\n",
              " 'lost': 317,\n",
              " 'felt': 318,\n",
              " 'entire': 319,\n",
              " 'supposed': 320,\n",
              " 'picture': 321,\n",
              " 'several': 322,\n",
              " 'entertaining': 323,\n",
              " 'guys': 324,\n",
              " 'title': 325,\n",
              " 'worse': 326,\n",
              " 'cinema': 327,\n",
              " 'based': 328,\n",
              " 'finally': 329,\n",
              " 'white': 330,\n",
              " 'sound': 331,\n",
              " 'waste': 332,\n",
              " 'problem': 333,\n",
              " 'drama': 334,\n",
              " 'totally': 335,\n",
              " 'dark': 336,\n",
              " 'beginning': 337,\n",
              " 'wanted': 338,\n",
              " 'seemed': 339,\n",
              " 'yes': 340,\n",
              " 'care': 341,\n",
              " 'mr': 342,\n",
              " 'lead': 343,\n",
              " 'humor': 344,\n",
              " 'fans': 345,\n",
              " 'becomes': 346,\n",
              " 'game': 347,\n",
              " 'already': 348,\n",
              " 'turn': 349,\n",
              " 'evil': 350,\n",
              " 'able': 351,\n",
              " 'direction': 352,\n",
              " 'guess': 353,\n",
              " 'example': 354,\n",
              " 'final': 355,\n",
              " 'oh': 356,\n",
              " 'lives': 357,\n",
              " 'throughout': 358,\n",
              " 'killer': 359,\n",
              " 'son': 360,\n",
              " 'quality': 361,\n",
              " 'wants': 362,\n",
              " 'fine': 363,\n",
              " 'side': 364,\n",
              " 'despite': 365,\n",
              " '\\x96': 366,\n",
              " 'writing': 367,\n",
              " 'heart': 368,\n",
              " 'days': 369,\n",
              " 'history': 370,\n",
              " 'horrible': 371,\n",
              " 'run': 372,\n",
              " 'amazing': 373,\n",
              " 'michael': 374,\n",
              " 'kill': 375,\n",
              " 'town': 376,\n",
              " 'close': 377,\n",
              " 'wo': 378,\n",
              " 'tries': 379,\n",
              " 'works': 380,\n",
              " 'act': 381,\n",
              " 'flick': 382,\n",
              " 'turns': 383,\n",
              " 'child': 384,\n",
              " 'enjoyed': 385,\n",
              " 'gave': 386,\n",
              " 'art': 387,\n",
              " 'matter': 388,\n",
              " 'viewer': 389,\n",
              " 'unfortunately': 390,\n",
              " 'behind': 391,\n",
              " 'today': 392,\n",
              " 'car': 393,\n",
              " 'past': 394,\n",
              " 'favorite': 395,\n",
              " 'god': 396,\n",
              " 'parts': 397,\n",
              " 'girls': 398,\n",
              " 'kid': 399,\n",
              " 'late': 400,\n",
              " 'hand': 401,\n",
              " 'hour': 402,\n",
              " 'genre': 403,\n",
              " 'expect': 404,\n",
              " 'directed': 405,\n",
              " 'brilliant': 406,\n",
              " 'city': 407,\n",
              " 'stuff': 408,\n",
              " 'eyes': 409,\n",
              " 'starts': 410,\n",
              " 'actress': 411,\n",
              " 'b': 412,\n",
              " 'obviously': 413,\n",
              " 'soon': 414,\n",
              " 'thinking': 415,\n",
              " 'killed': 416,\n",
              " 'sometimes': 417,\n",
              " 'self': 418,\n",
              " 'type': 419,\n",
              " 'decent': 420,\n",
              " 'group': 421,\n",
              " 'says': 422,\n",
              " 'daughter': 423,\n",
              " 'took': 424,\n",
              " '4': 425,\n",
              " 'voice': 426,\n",
              " 'stop': 427,\n",
              " 'overall': 428,\n",
              " 'known': 429,\n",
              " 'heard': 430,\n",
              " 'highly': 431,\n",
              " 'fight': 432,\n",
              " 'happens': 433,\n",
              " 'feeling': 434,\n",
              " 'writer': 435,\n",
              " 'blood': 436,\n",
              " 'coming': 437,\n",
              " 'slow': 438,\n",
              " 'except': 439,\n",
              " 'extremely': 440,\n",
              " 'leave': 441,\n",
              " 'told': 442,\n",
              " 'etc': 443,\n",
              " 'moment': 444,\n",
              " 'police': 445,\n",
              " 'lack': 446,\n",
              " 'experience': 447,\n",
              " 'stories': 448,\n",
              " 'hit': 449,\n",
              " 'strong': 450,\n",
              " 'wonder': 451,\n",
              " 'looked': 452,\n",
              " 'involved': 453,\n",
              " 'particularly': 454,\n",
              " 'living': 455,\n",
              " 'chance': 456,\n",
              " 'including': 457,\n",
              " '5': 458,\n",
              " 'score': 459,\n",
              " 'violence': 460,\n",
              " 'hero': 461,\n",
              " 'simple': 462,\n",
              " 'save': 463,\n",
              " 'complete': 464,\n",
              " 'attempt': 465,\n",
              " 'brother': 466,\n",
              " 'serious': 467,\n",
              " 'obvious': 468,\n",
              " 'cut': 469,\n",
              " 'shown': 470,\n",
              " 'taken': 471,\n",
              " 'hell': 472,\n",
              " 'roles': 473,\n",
              " 'murder': 474,\n",
              " 'song': 475,\n",
              " 'cool': 476,\n",
              " 'hilarious': 477,\n",
              " 'happened': 478,\n",
              " 'age': 479,\n",
              " 'happen': 480,\n",
              " 'english': 481,\n",
              " 'gore': 482,\n",
              " 'james': 483,\n",
              " 'husband': 484,\n",
              " 'david': 485,\n",
              " 'across': 486,\n",
              " 'opening': 487,\n",
              " 'released': 488,\n",
              " 'exactly': 489,\n",
              " 'robert': 490,\n",
              " 'ago': 491,\n",
              " 'crap': 492,\n",
              " 'number': 493,\n",
              " 'jokes': 494,\n",
              " 'interest': 495,\n",
              " 'reality': 496,\n",
              " 'usually': 497,\n",
              " 'wish': 498,\n",
              " 'saying': 499,\n",
              " 'ok': 500,\n",
              " 'running': 501,\n",
              " 'huge': 502,\n",
              " 'order': 503,\n",
              " 'cinematography': 504,\n",
              " 'hours': 505,\n",
              " 'sad': 506,\n",
              " 'none': 507,\n",
              " 'whose': 508,\n",
              " 'alone': 509,\n",
              " 'relationship': 510,\n",
              " 'documentary': 511,\n",
              " 'talent': 512,\n",
              " 'view': 513,\n",
              " 'career': 514,\n",
              " 'shots': 515,\n",
              " 'female': 516,\n",
              " 'possible': 517,\n",
              " 'middle': 518,\n",
              " 'call': 519,\n",
              " 'taking': 520,\n",
              " 'turned': 521,\n",
              " 'seriously': 522,\n",
              " 'annoying': 523,\n",
              " 'important': 524,\n",
              " 'light': 525,\n",
              " 'body': 526,\n",
              " 'major': 527,\n",
              " 'started': 528,\n",
              " 'power': 529,\n",
              " 'word': 530,\n",
              " 'please': 531,\n",
              " 'ridiculous': 532,\n",
              " 'ends': 533,\n",
              " 'country': 534,\n",
              " 'somewhat': 535,\n",
              " 'usual': 536,\n",
              " 'mostly': 537,\n",
              " 'up': 538,\n",
              " 'change': 539,\n",
              " 'knew': 540,\n",
              " 'level': 541,\n",
              " 'beyond': 542,\n",
              " 'four': 543,\n",
              " 'knows': 544,\n",
              " 'talking': 545,\n",
              " 'jack': 546,\n",
              " 'novel': 547,\n",
              " 'non': 548,\n",
              " 'room': 549,\n",
              " 'words': 550,\n",
              " 'happy': 551,\n",
              " 'single': 552,\n",
              " 'ones': 553,\n",
              " 'silly': 554,\n",
              " 'finds': 555,\n",
              " 'opinion': 556,\n",
              " 'strange': 557,\n",
              " 'modern': 558,\n",
              " 'upon': 559,\n",
              " 'scary': 560,\n",
              " 'due': 561,\n",
              " 'musical': 562,\n",
              " 'cheap': 563,\n",
              " 'attention': 564,\n",
              " 'anyway': 565,\n",
              " 'apparently': 566,\n",
              " 'local': 567,\n",
              " 'television': 568,\n",
              " 'clearly': 569,\n",
              " 'british': 570,\n",
              " 'problems': 571,\n",
              " 'basically': 572,\n",
              " 'miss': 573,\n",
              " 'episodes': 574,\n",
              " 'disappointed': 575,\n",
              " 'earth': 576,\n",
              " 'five': 577,\n",
              " 'sequence': 578,\n",
              " 'talk': 579,\n",
              " 'class': 580,\n",
              " 'french': 581,\n",
              " 'king': 582,\n",
              " 'events': 583,\n",
              " 'tells': 584,\n",
              " 'thriller': 585,\n",
              " 'team': 586,\n",
              " 'comic': 587,\n",
              " 'moving': 588,\n",
              " 'straight': 589,\n",
              " 'rating': 590,\n",
              " 'fast': 591,\n",
              " 'near': 592,\n",
              " 'songs': 593,\n",
              " 'ten': 594,\n",
              " 'whether': 595,\n",
              " 'appears': 596,\n",
              " 'giving': 597,\n",
              " 'predictable': 598,\n",
              " 'review': 599,\n",
              " 'hate': 600,\n",
              " 'sets': 601,\n",
              " 'easily': 602,\n",
              " 'dialog': 603,\n",
              " 'add': 604,\n",
              " 'bring': 605,\n",
              " 'the': 606,\n",
              " 'romantic': 607,\n",
              " 'space': 608,\n",
              " 'supporting': 609,\n",
              " 'george': 610,\n",
              " 'die': 611,\n",
              " 'similar': 612,\n",
              " 'mention': 613,\n",
              " 'falls': 614,\n",
              " 'soundtrack': 615,\n",
              " 'entertainment': 616,\n",
              " 'future': 617,\n",
              " 'within': 618,\n",
              " 'lots': 619,\n",
              " 'needs': 620,\n",
              " 'bunch': 621,\n",
              " 'enjoyable': 622,\n",
              " 'clear': 623,\n",
              " 'showing': 624,\n",
              " 'sister': 625,\n",
              " 'release': 626,\n",
              " 'message': 627,\n",
              " 'tried': 628,\n",
              " 'filmed': 629,\n",
              " 'working': 630,\n",
              " 'surprised': 631,\n",
              " 'monster': 632,\n",
              " 'certain': 633,\n",
              " 'easy': 634,\n",
              " 'named': 635,\n",
              " 'theme': 636,\n",
              " 'dull': 637,\n",
              " 'rock': 638,\n",
              " 'among': 639,\n",
              " 'stand': 640,\n",
              " 'sequel': 641,\n",
              " 'theater': 642,\n",
              " 'fall': 643,\n",
              " 'eye': 644,\n",
              " 'parents': 645,\n",
              " 'minute': 646,\n",
              " 'suspense': 647,\n",
              " 'feature': 648,\n",
              " 'lady': 649,\n",
              " 'ways': 650,\n",
              " 'buy': 651,\n",
              " 'stay': 652,\n",
              " 'gone': 653,\n",
              " 'kept': 654,\n",
              " 'typical': 655,\n",
              " 'using': 656,\n",
              " 'feels': 657,\n",
              " 'tale': 658,\n",
              " 'storyline': 659,\n",
              " 'dog': 660,\n",
              " 'nearly': 661,\n",
              " 'oscar': 662,\n",
              " 'greatest': 663,\n",
              " 'comments': 664,\n",
              " 'doubt': 665,\n",
              " 'effort': 666,\n",
              " 'sorry': 667,\n",
              " 'mystery': 668,\n",
              " 'elements': 669,\n",
              " 'deal': 670,\n",
              " 'subject': 671,\n",
              " 'editing': 672,\n",
              " 'means': 673,\n",
              " 'actual': 674,\n",
              " 'famous': 675,\n",
              " 'general': 676,\n",
              " 'viewers': 677,\n",
              " 'realistic': 678,\n",
              " 'peter': 679,\n",
              " 'fantastic': 680,\n",
              " 'brought': 681,\n",
              " 'points': 682,\n",
              " 'form': 683,\n",
              " 'viewing': 684,\n",
              " 'rent': 685,\n",
              " 'richard': 686,\n",
              " 'crime': 687,\n",
              " 'dr': 688,\n",
              " 'red': 689,\n",
              " 'imagine': 690,\n",
              " 'move': 691,\n",
              " 'follow': 692,\n",
              " 'paul': 693,\n",
              " 'leads': 694,\n",
              " 'material': 695,\n",
              " 'check': 696,\n",
              " 'begins': 697,\n",
              " 'reviews': 698,\n",
              " 'sit': 699,\n",
              " 'over': 700,\n",
              " 'hear': 701,\n",
              " 'somehow': 702,\n",
              " 'figure': 703,\n",
              " '20': 704,\n",
              " 'doctor': 705,\n",
              " 'sci': 706,\n",
              " 'killing': 707,\n",
              " 'animation': 708,\n",
              " 'fi': 709,\n",
              " 'weak': 710,\n",
              " 'forget': 711,\n",
              " 'open': 712,\n",
              " 'york': 713,\n",
              " 'period': 714,\n",
              " 'learn': 715,\n",
              " 'deep': 716,\n",
              " 'average': 717,\n",
              " 'america': 718,\n",
              " 'believable': 719,\n",
              " 'premise': 720,\n",
              " 'sequences': 721,\n",
              " 'surprise': 722,\n",
              " 'particular': 723,\n",
              " 'tom': 724,\n",
              " 'poorly': 725,\n",
              " 'dance': 726,\n",
              " 'expected': 727,\n",
              " 'atmosphere': 728,\n",
              " 'decided': 729,\n",
              " 'box': 730,\n",
              " 'eventually': 731,\n",
              " 'boys': 732,\n",
              " 'avoid': 733,\n",
              " 'difficult': 734,\n",
              " 'wait': 735,\n",
              " 'okay': 736,\n",
              " 'lame': 737,\n",
              " 'hot': 738,\n",
              " 're': 739,\n",
              " 'truth': 740,\n",
              " 'emotional': 741,\n",
              " 'leaves': 742,\n",
              " 'possibly': 743,\n",
              " 'free': 744,\n",
              " 'needed': 745,\n",
              " 'sexual': 746,\n",
              " 'crew': 747,\n",
              " 'situation': 748,\n",
              " 'write': 749,\n",
              " 'third': 750,\n",
              " 'became': 751,\n",
              " 'whatever': 752,\n",
              " 'gay': 753,\n",
              " 'indeed': 754,\n",
              " 'imdb': 755,\n",
              " 'acted': 756,\n",
              " 'lee': 757,\n",
              " 'de': 758,\n",
              " 'season': 759,\n",
              " 'male': 760,\n",
              " 'forced': 761,\n",
              " 'society': 762,\n",
              " 'footage': 763,\n",
              " 'shame': 764,\n",
              " 'western': 765,\n",
              " 'reading': 766,\n",
              " 'romance': 767,\n",
              " 'meet': 768,\n",
              " 'note': 769,\n",
              " 'air': 770,\n",
              " 'meets': 771,\n",
              " 'begin': 772,\n",
              " 'memorable': 773,\n",
              " '8': 774,\n",
              " 'credits': 775,\n",
              " 'cheesy': 776,\n",
              " 'question': 777,\n",
              " 'features': 778,\n",
              " '7': 779,\n",
              " 'street': 780,\n",
              " 'interested': 781,\n",
              " 'previous': 782,\n",
              " 'forward': 783,\n",
              " 'beauty': 784,\n",
              " 'nature': 785,\n",
              " 'stage': 786,\n",
              " 'personal': 787,\n",
              " 'hands': 788,\n",
              " 'unless': 789,\n",
              " 'japanese': 790,\n",
              " 'keeps': 791,\n",
              " 'cop': 792,\n",
              " 'superb': 793,\n",
              " 'otherwise': 794,\n",
              " 'inside': 795,\n",
              " 'badly': 796,\n",
              " 'island': 797,\n",
              " 'total': 798,\n",
              " 'screenplay': 799,\n",
              " 'plus': 800,\n",
              " 'weird': 801,\n",
              " '9': 802,\n",
              " 'perfectly': 803,\n",
              " 'effect': 804,\n",
              " 'incredibly': 805,\n",
              " 'comment': 806,\n",
              " 'towards': 807,\n",
              " 'writers': 808,\n",
              " 'sounds': 809,\n",
              " 'in': 810,\n",
              " 'quickly': 811,\n",
              " 'disney': 812,\n",
              " 'crazy': 813,\n",
              " 'result': 814,\n",
              " 'battle': 815,\n",
              " 'laughs': 816,\n",
              " 'realize': 817,\n",
              " 'worked': 818,\n",
              " 'masterpiece': 819,\n",
              " 'baby': 820,\n",
              " 'setting': 821,\n",
              " 'girlfriend': 822,\n",
              " 'copy': 823,\n",
              " 'older': 824,\n",
              " 'unique': 825,\n",
              " 'earlier': 826,\n",
              " 'directors': 827,\n",
              " 'dramatic': 828,\n",
              " 'pay': 829,\n",
              " 'rate': 830,\n",
              " 'fire': 831,\n",
              " 'various': 832,\n",
              " 'plenty': 833,\n",
              " 'background': 834,\n",
              " 'brings': 835,\n",
              " 'mark': 836,\n",
              " 'powerful': 837,\n",
              " 'front': 838,\n",
              " 'appear': 839,\n",
              " 'ask': 840,\n",
              " 'dumb': 841,\n",
              " 'joe': 842,\n",
              " 'water': 843,\n",
              " 'business': 844,\n",
              " 'admit': 845,\n",
              " 'fairly': 846,\n",
              " 'political': 847,\n",
              " 'rich': 848,\n",
              " 'directing': 849,\n",
              " 'leading': 850,\n",
              " 'creepy': 851,\n",
              " 'portrayed': 852,\n",
              " 'spent': 853,\n",
              " 'bill': 854,\n",
              " 'joke': 855,\n",
              " 'following': 856,\n",
              " 'la': 857,\n",
              " 'development': 858,\n",
              " 'mess': 859,\n",
              " 'dream': 860,\n",
              " '80': 861,\n",
              " 'cover': 862,\n",
              " 'gun': 863,\n",
              " 'telling': 864,\n",
              " 'present': 865,\n",
              " 'fighting': 866,\n",
              " 'meant': 867,\n",
              " 'outside': 868,\n",
              " 'attempts': 869,\n",
              " 'deserves': 870,\n",
              " 'manages': 871,\n",
              " 'create': 872,\n",
              " 'expecting': 873,\n",
              " 'party': 874,\n",
              " 'zombie': 875,\n",
              " 'fails': 876,\n",
              " 'german': 877,\n",
              " 'large': 878,\n",
              " 'wasted': 879,\n",
              " 'reasons': 880,\n",
              " 'caught': 881,\n",
              " 'break': 882,\n",
              " 'talented': 883,\n",
              " 'ended': 884,\n",
              " 'agree': 885,\n",
              " 'hardly': 886,\n",
              " 'william': 887,\n",
              " 'recently': 888,\n",
              " 'twist': 889,\n",
              " 'ideas': 890,\n",
              " 'missing': 891,\n",
              " 'secret': 892,\n",
              " 'success': 893,\n",
              " 'apart': 894,\n",
              " 'odd': 895,\n",
              " 'and': 896,\n",
              " 'villain': 897,\n",
              " 'plain': 898,\n",
              " 'return': 899,\n",
              " 'era': 900,\n",
              " 'list': 901,\n",
              " 'italian': 902,\n",
              " 'clever': 903,\n",
              " 'fantasy': 904,\n",
              " 'produced': 905,\n",
              " \"'the\": 906,\n",
              " 'members': 907,\n",
              " 'filmmakers': 908,\n",
              " 'cute': 909,\n",
              " 'laughing': 910,\n",
              " 'remake': 911,\n",
              " 'office': 912,\n",
              " 'wrote': 913,\n",
              " '30': 914,\n",
              " 'co': 915,\n",
              " 'public': 916,\n",
              " 'pure': 917,\n",
              " 'created': 918,\n",
              " 'waiting': 919,\n",
              " 'casting': 920,\n",
              " 'escape': 921,\n",
              " 'state': 922,\n",
              " 'filled': 923,\n",
              " 'hold': 924,\n",
              " 'pace': 925,\n",
              " 'visual': 926,\n",
              " 'cartoon': 927,\n",
              " 'potential': 928,\n",
              " 'nudity': 929,\n",
              " 'century': 930,\n",
              " 'missed': 931,\n",
              " 'married': 932,\n",
              " 'slightly': 933,\n",
              " 'flat': 934,\n",
              " 'match': 935,\n",
              " 'van': 936,\n",
              " 'cold': 937,\n",
              " 'mentioned': 938,\n",
              " 'familiar': 939,\n",
              " 'science': 940,\n",
              " 'company': 941,\n",
              " 'scott': 942,\n",
              " 'unlike': 943,\n",
              " 'incredible': 944,\n",
              " '15': 945,\n",
              " 'train': 946,\n",
              " 'popular': 947,\n",
              " 'uses': 948,\n",
              " 'decides': 949,\n",
              " 'speak': 950,\n",
              " 'died': 951,\n",
              " 'considering': 952,\n",
              " 'sees': 953,\n",
              " 'social': 954,\n",
              " 'store': 955,\n",
              " 'anti': 956,\n",
              " 'credit': 957,\n",
              " 'entirely': 958,\n",
              " 'out': 959,\n",
              " 'dancing': 960,\n",
              " 'language': 961,\n",
              " 'force': 962,\n",
              " 'sweet': 963,\n",
              " 'former': 964,\n",
              " 'bored': 965,\n",
              " 'intelligent': 966,\n",
              " 'convincing': 967,\n",
              " 'amount': 968,\n",
              " 'appreciate': 969,\n",
              " 'common': 970,\n",
              " 'tension': 971,\n",
              " 'band': 972,\n",
              " 'younger': 973,\n",
              " 'fit': 974,\n",
              " 'suddenly': 975,\n",
              " 'college': 976,\n",
              " 'hair': 977,\n",
              " 'compared': 978,\n",
              " 'moves': 979,\n",
              " 'neither': 980,\n",
              " 'portrayal': 981,\n",
              " 'follows': 982,\n",
              " 'biggest': 983,\n",
              " 'brain': 984,\n",
              " 'jane': 985,\n",
              " 'value': 986,\n",
              " 'violent': 987,\n",
              " 'sadly': 988,\n",
              " 'law': 989,\n",
              " 'mad': 990,\n",
              " 'producers': 991,\n",
              " 'brothers': 992,\n",
              " 'trouble': 993,\n",
              " 'images': 994,\n",
              " 'depth': 995,\n",
              " 'post': 996,\n",
              " 'drug': 997,\n",
              " '90': 998,\n",
              " 'choice': 999,\n",
              " 'fear': 1000,\n",
              " ...}"
            ]
          },
          "metadata": {},
          "execution_count": 49
        }
      ]
    },
    {
      "cell_type": "markdown",
      "source": [
        "Burada her bir kelime kullanım sırasına göre numaralandırılıyor. Biliyoruzki cümlelerimizin uzunlukları birbirinden farklı fakat RNN algoritmaları için farklı uzunluklarda olan cümlelerle eğitemiyoruz ki farklı uzunluklarda cümleleri tahmin etmesi olanaksızlaşıyor. Bu nedenle veri setimizde bulunan bütün cümleleri aynı boyuta getirmemiz gerekiyor."
      ],
      "metadata": {
        "id": "Bc8lUiLZWr2q"
      }
    },
    {
      "cell_type": "code",
      "source": [
        "def prep_text(texts, tokenizer, max_sequence_length):\n",
        "    # Turns text into into padded sequences.\n",
        "    return tokenizer.texts_to_sequences(texts)\n",
        "    #return sequence.pad_sequences(text_sequences, maxlen=max_sequence_length)\n",
        "\n",
        "x_train_tokens = prep_text(train_df['content'], tokenizer, hparams[\"max_sequence_length\"])"
      ],
      "metadata": {
        "id": "KMgYRzewUlHA"
      },
      "execution_count": null,
      "outputs": []
    },
    {
      "cell_type": "markdown",
      "source": [
        "Önce cümlelerimizdeki kelimeleri, yukarıda oluşturmuş olduğumuz sözlükte karşılığında hangi index’te yer alıyorsa onunla değiştiriyoruz."
      ],
      "metadata": {
        "id": "Qv0iJkheWqYV"
      }
    },
    {
      "cell_type": "code",
      "source": [
        "num_tokens = [len(tokens) for tokens in x_train_tokens]\n",
        "num_tokens = np.array(num_tokens)"
      ],
      "metadata": {
        "id": "hcEEE4swVppX"
      },
      "execution_count": null,
      "outputs": []
    },
    {
      "cell_type": "markdown",
      "source": [
        "Daha sonra verimizdeki cümlelerimizin her birinin kelime sayısını alıp birer liste oluşturuyoruz."
      ],
      "metadata": {
        "id": "cpCdoGOdWpMp"
      }
    },
    {
      "cell_type": "code",
      "source": [
        "max_tokens = np.mean(num_tokens) + 2 * np.std(num_tokens)\n",
        "max_tokens = int(max_tokens)"
      ],
      "metadata": {
        "id": "5Bv9S7FuV_CL"
      },
      "execution_count": null,
      "outputs": []
    },
    {
      "cell_type": "markdown",
      "source": [
        "Sonra oluşturmuş olduğumuz listenin ortalamasını alıp daha sonra standart sapmasını 2 ile çarpıp bir değer elde ediyoruz. Bu değer bize verimizdeki cümlelerimizin dağılımı ile varsa aykırı uzunluğa sahip cümleleri ortalamaya indirgememize sağlayacak."
      ],
      "metadata": {
        "id": "WWj6gZbOWoLb"
      }
    },
    {
      "cell_type": "code",
      "source": [
        "#belirlenen bu sayı verinin yüzde kaçını kapsadığına bakılır.\n",
        "np.sum(num_tokens < max_tokens) / len(num_tokens)"
      ],
      "metadata": {
        "colab": {
          "base_uri": "https://localhost:8080/"
        },
        "id": "6iyKTUjAWD_h",
        "outputId": "a5fe5996-0478-4a5d-fab9-a65e60d60cf0"
      },
      "execution_count": null,
      "outputs": [
        {
          "output_type": "execute_result",
          "data": {
            "text/plain": [
              "0.94544"
            ]
          },
          "metadata": {},
          "execution_count": 54
        }
      ]
    },
    {
      "cell_type": "markdown",
      "source": [
        "Buradaki hesapla elde ettiğimiz değerin verimizdeki cümlelerin yüzde kaçını kapsadığını görebiliriz."
      ],
      "metadata": {
        "id": "eetvh9-jWnKX"
      }
    },
    {
      "cell_type": "code",
      "source": [
        "#veriler belirlenen token sayısına göre ayarlanır\n",
        "x_train_pad = sequence.pad_sequences(x_train_tokens, maxlen=max_tokens)"
      ],
      "metadata": {
        "id": "4H5dJBV_WHSj"
      },
      "execution_count": null,
      "outputs": []
    },
    {
      "cell_type": "markdown",
      "source": [
        "Daha sonra cümlelerimizi yukarıda elde ettiğimiz değer kadar optimize ediyoruz ve eksik kalan kelime sayısı kadar 0 ekliyoruz. Örnek olarak aşağıdaki çıktıyı inceleyebilirsiniz."
      ],
      "metadata": {
        "id": "bMQOrmTyWlvT"
      }
    },
    {
      "cell_type": "markdown",
      "source": [
        "##Build Model"
      ],
      "metadata": {
        "id": "7LzgGbALDgYv"
      }
    },
    {
      "cell_type": "markdown",
      "source": [
        "We are now ready to specify the Keras layers. We write a function to create a new model, which we will invoke whenever we wish to train a new model."
      ],
      "metadata": {
        "id": "FkSMHMI3VJTR"
      }
    },
    {
      "cell_type": "code",
      "source": [
        "def set_seeds():\n",
        "  np.random.seed(512)\n",
        "  tf.compat.v1.set_random_seed(512)\n",
        "set_seeds()"
      ],
      "metadata": {
        "id": "hEOXjtY3VeWR"
      },
      "execution_count": null,
      "outputs": []
    },
    {
      "cell_type": "code",
      "source": [
        "from tensorflow.keras import layers\n",
        "\n",
        "#ardışık bir model\n",
        "model = keras.Sequential()\n",
        "#her kelimeye karşılık gelen 50 uzunluğunda bir vektör oluşturulur. (Embedding matrisi)\n",
        "embedding_size = 50\n",
        "#matris kelime sayısı ve embedding büyüklüğünde olacak, yani 10bine 50 uzunluğunda. Buna da bir isim veriliyor name değişkeniyle.\n",
        "model.add(tf.keras.layers.Embedding(input_dim=10000,\n",
        "                    output_dim=embedding_size,\n",
        "                    input_length=max_tokens,\n",
        "                    name='embedding_layer'))\n",
        "#LSTM layerlerinin eklenmesi\n",
        "## 32 nöronlu LSTM (16 outputlu , return_sequences=True demek output'un tamamını ver demek)\n",
        "model.add(tf.keras.layers.LSTM(units=32, return_sequences=True))\n",
        "## 16 nöronlu LSTM (16 outputlu , return_sequences=True demek output'un tamamını ver demek)\n",
        "model.add(tf.keras.layers.LSTM(units=16, return_sequences=True))\n",
        "## 8 nöronlu LSTM (8 outputlu , return_sequences=True demek output'un tamamını ver demek)\n",
        "model.add(tf.keras.layers.LSTM(units=8, return_sequences=True))\n",
        "## 4 nöronlu LSTM (4 outputlu , return_sequences=False yani default değer, tek bir output verecek)\n",
        "model.add(tf.keras.layers.LSTM(units=4))\n",
        "## output layer'ı , görsel olarak gösterilirken dense layer kullanılır.  Tek bir nörondan oluştuğu için 1 yazılır.\n",
        "model.add(tf.keras.layers.Dense(1, activation='sigmoid'))\n",
        "#optimizasyon algoritması, 1e-3 = 0.001 demek.\n",
        "optimizer = tf.keras.optimizers.Adam(learning_rate=1e-4)\n",
        "# Create callback for early stopping on validation loss. If the loss does\n",
        "# not decrease in two consecutive tries, stop training.\n",
        "callbacks = [tf.keras.callbacks.EarlyStopping( monitor='val_loss', patience=5)]\n",
        "#modeli derlemek, loss fonksiyonu binary_crossentropy -> sadece 2 sınıf ama daha fazla sınıflar için categorical_crossentropy kullanılır.\n",
        "#metrics -> modelin başarısını görmek için.\n",
        "model.compile(loss='binary_crossentropy',\n",
        "              optimizer=optimizer,\n",
        "              metrics=['accuracy'])"
      ],
      "metadata": {
        "id": "Jr8-HPx0gtAv"
      },
      "execution_count": null,
      "outputs": []
    },
    {
      "cell_type": "code",
      "source": [
        "model.summary()"
      ],
      "metadata": {
        "colab": {
          "base_uri": "https://localhost:8080/"
        },
        "id": "tpN938EPh_Gh",
        "outputId": "22768a47-67b6-453e-f81b-24091caa2643"
      },
      "execution_count": null,
      "outputs": [
        {
          "output_type": "stream",
          "name": "stdout",
          "text": [
            "Model: \"sequential_8\"\n",
            "_________________________________________________________________\n",
            " Layer (type)                Output Shape              Param #   \n",
            "=================================================================\n",
            " embedding_layer (Embedding)  (None, 272, 50)          500000    \n",
            "                                                                 \n",
            " lstm_15 (LSTM)              (None, 272, 32)           10624     \n",
            "                                                                 \n",
            " lstm_16 (LSTM)              (None, 272, 16)           3136      \n",
            "                                                                 \n",
            " lstm_17 (LSTM)              (None, 272, 8)            800       \n",
            "                                                                 \n",
            " lstm_18 (LSTM)              (None, 4)                 208       \n",
            "                                                                 \n",
            " dense_11 (Dense)            (None, 1)                 5         \n",
            "                                                                 \n",
            "=================================================================\n",
            "Total params: 514,773\n",
            "Trainable params: 514,773\n",
            "Non-trainable params: 0\n",
            "_________________________________________________________________\n"
          ]
        }
      ]
    },
    {
      "cell_type": "markdown",
      "source": [
        "## Train the model\n"
      ],
      "metadata": {
        "id": "AfZ92hpEwAaX"
      }
    },
    {
      "cell_type": "code",
      "source": [
        "x_train, x_val, y_train, y_val = train_test_split(x_train_pad,train_labels,test_size = 0.2, random_state = 42)"
      ],
      "metadata": {
        "id": "u6b9qmhnfiX-"
      },
      "execution_count": null,
      "outputs": []
    },
    {
      "cell_type": "code",
      "source": [
        "print(\"Fit model on training data\")\n",
        "epochs = 40\n",
        "history = model.fit(\n",
        "    x_train,\n",
        "    y_train,\n",
        "    epochs=epochs,\n",
        "    callbacks=callbacks,\n",
        "    # We pass some validation for\n",
        "    # monitoring validation loss and metrics\n",
        "    # at the end of each epoch\n",
        "    validation_data=(x_val, y_val),\n",
        "    batch_size=hparams[\"batch_size\"]\n",
        ")"
      ],
      "metadata": {
        "colab": {
          "base_uri": "https://localhost:8080/"
        },
        "id": "sm1B-aSpfq5S",
        "outputId": "5d19cdd5-1082-4e85-b2bf-8574538a056b"
      },
      "execution_count": null,
      "outputs": [
        {
          "output_type": "stream",
          "name": "stdout",
          "text": [
            "Fit model on training data\n",
            "Epoch 1/40\n",
            "79/79 [==============================] - 11s 73ms/step - loss: 0.6925 - accuracy: 0.5705 - val_loss: 0.6905 - val_accuracy: 0.6722\n",
            "Epoch 2/40\n",
            "79/79 [==============================] - 4s 55ms/step - loss: 0.6483 - accuracy: 0.7542 - val_loss: 0.5760 - val_accuracy: 0.8009\n",
            "Epoch 3/40\n",
            "79/79 [==============================] - 4s 55ms/step - loss: 0.5276 - accuracy: 0.8442 - val_loss: 0.5003 - val_accuracy: 0.8521\n",
            "Epoch 4/40\n",
            "79/79 [==============================] - 4s 54ms/step - loss: 0.4635 - accuracy: 0.8787 - val_loss: 0.4601 - val_accuracy: 0.8605\n",
            "Epoch 5/40\n",
            "79/79 [==============================] - 4s 55ms/step - loss: 0.4208 - accuracy: 0.8944 - val_loss: 0.4401 - val_accuracy: 0.8569\n",
            "Epoch 6/40\n",
            "79/79 [==============================] - 4s 54ms/step - loss: 0.3878 - accuracy: 0.9068 - val_loss: 0.4189 - val_accuracy: 0.8650\n",
            "Epoch 7/40\n",
            "79/79 [==============================] - 4s 54ms/step - loss: 0.3645 - accuracy: 0.9129 - val_loss: 0.4063 - val_accuracy: 0.8671\n",
            "Epoch 8/40\n",
            "79/79 [==============================] - 4s 54ms/step - loss: 0.3420 - accuracy: 0.9222 - val_loss: 0.3986 - val_accuracy: 0.8658\n",
            "Epoch 9/40\n",
            "79/79 [==============================] - 4s 54ms/step - loss: 0.3251 - accuracy: 0.9269 - val_loss: 0.3935 - val_accuracy: 0.8652\n",
            "Epoch 10/40\n",
            "79/79 [==============================] - 4s 54ms/step - loss: 0.3123 - accuracy: 0.9300 - val_loss: 0.3894 - val_accuracy: 0.8656\n",
            "Epoch 11/40\n",
            "79/79 [==============================] - 4s 54ms/step - loss: 0.2984 - accuracy: 0.9342 - val_loss: 0.3907 - val_accuracy: 0.8614\n",
            "Epoch 12/40\n",
            "79/79 [==============================] - 4s 54ms/step - loss: 0.2867 - accuracy: 0.9366 - val_loss: 0.3832 - val_accuracy: 0.8648\n",
            "Epoch 13/40\n",
            "79/79 [==============================] - 4s 56ms/step - loss: 0.2755 - accuracy: 0.9402 - val_loss: 0.3865 - val_accuracy: 0.8600\n",
            "Epoch 14/40\n",
            "79/79 [==============================] - 4s 57ms/step - loss: 0.2667 - accuracy: 0.9417 - val_loss: 0.3821 - val_accuracy: 0.8622\n",
            "Epoch 15/40\n",
            "79/79 [==============================] - 5s 57ms/step - loss: 0.2582 - accuracy: 0.9436 - val_loss: 0.3823 - val_accuracy: 0.8618\n",
            "Epoch 16/40\n",
            "79/79 [==============================] - 5s 57ms/step - loss: 0.2506 - accuracy: 0.9451 - val_loss: 0.3861 - val_accuracy: 0.8596\n",
            "Epoch 17/40\n",
            "79/79 [==============================] - 4s 55ms/step - loss: 0.2429 - accuracy: 0.9466 - val_loss: 0.3845 - val_accuracy: 0.8614\n",
            "Epoch 18/40\n",
            "79/79 [==============================] - 4s 53ms/step - loss: 0.2369 - accuracy: 0.9477 - val_loss: 0.3840 - val_accuracy: 0.8611\n",
            "Epoch 19/40\n",
            "79/79 [==============================] - 4s 54ms/step - loss: 0.2313 - accuracy: 0.9485 - val_loss: 0.3825 - val_accuracy: 0.8612\n"
          ]
        }
      ]
    },
    {
      "cell_type": "markdown",
      "source": [
        "## Show performance on chart"
      ],
      "metadata": {
        "id": "zLQBgIbFDYas"
      }
    },
    {
      "cell_type": "code",
      "source": [
        "# Print results.\n",
        "hstr = history.history\n",
        "print(hstr.keys())\n",
        "print('Validation accuracy: {accuracy}, loss: {loss}'.format(\n",
        "        accuracy=hstr['val_accuracy'][-1], loss=hstr['val_loss'][-1]))"
      ],
      "metadata": {
        "colab": {
          "base_uri": "https://localhost:8080/"
        },
        "id": "oyKuzrk6wsqz",
        "outputId": "e88bd54f-a5fd-48e4-ba93-6a8a6aec7448"
      },
      "execution_count": null,
      "outputs": [
        {
          "output_type": "stream",
          "name": "stdout",
          "text": [
            "dict_keys(['loss', 'accuracy', 'val_loss', 'val_accuracy'])\n",
            "Validation accuracy: 0.8611999750137329, loss: 0.38247546553611755\n"
          ]
        }
      ]
    },
    {
      "cell_type": "code",
      "source": [
        "# summarize history for accuracy\n",
        "plt.plot(hstr['accuracy'])\n",
        "plt.plot(hstr['val_accuracy'])\n",
        "plt.title('Accuracy')\n",
        "plt.ylabel('Accuracy')\n",
        "plt.xlabel('Epoch')\n",
        "plt.legend(['Accuracy', 'Validation'], loc='upper left')\n",
        "plt.show()"
      ],
      "metadata": {
        "colab": {
          "base_uri": "https://localhost:8080/",
          "height": 295
        },
        "id": "Xpg2IhPyxr3f",
        "outputId": "f4f7c4ed-b142-4183-c9cb-dd37644f6eec"
      },
      "execution_count": null,
      "outputs": [
        {
          "output_type": "display_data",
          "data": {
            "image/png": "[encoded data removed]",
            "text/plain": [
              "<Figure size 432x288 with 1 Axes>"
            ]
          },
          "metadata": {
            "needs_background": "light"
          }
        }
      ]
    },
    {
      "cell_type": "code",
      "source": [
        "# summarize history for loss\n",
        "plt.plot(hstr['loss'])\n",
        "plt.plot(hstr['val_loss'])\n",
        "plt.title('Loss')\n",
        "plt.ylabel('Loss')\n",
        "plt.xlabel('Epoch')\n",
        "plt.legend(['Loss', 'Validation'], loc='upper left')\n",
        "plt.show()"
      ],
      "metadata": {
        "colab": {
          "base_uri": "https://localhost:8080/",
          "height": 295
        },
        "id": "RZYApM5SCLa4",
        "outputId": "246410e6-3707-4f61-edd1-17a57e6e0551"
      },
      "execution_count": null,
      "outputs": [
        {
          "output_type": "display_data",
          "data": {
            "image/png": "[encoded data removed]",
            "text/plain": [
              "<Figure size 432x288 with 1 Axes>"
            ]
          },
          "metadata": {
            "needs_background": "light"
          }
        }
      ]
    },
    {
      "cell_type": "markdown",
      "source": [
        "##We evaluate the model on the test data via evaluate():\n"
      ],
      "metadata": {
        "id": "5yheFFuzwCzJ"
      }
    },
    {
      "cell_type": "code",
      "source": [
        "# Evaluate the model on the test data using `evaluate`\n",
        "print(\"Evaluate on test data\")\n",
        "results = model.evaluate(x_val, y_val, batch_size=128)\n",
        "print(\"test loss, test acc:\", results)\n",
        "\n",
        "# Generate predictions (probabilities -- the output of the last layer)\n",
        "# on new data using `predict`\n",
        "print(\"Generate predictions for 3 samples\")\n",
        "predictions = model.predict(x_val[:3])\n",
        "print(\"predictions shape:\", predictions.shape)"
      ],
      "metadata": {
        "id": "PBFJk17IwEt0",
        "colab": {
          "base_uri": "https://localhost:8080/"
        },
        "outputId": "95c2441f-848f-4efb-f8c5-dbb6645283a4"
      },
      "execution_count": null,
      "outputs": [
        {
          "output_type": "stream",
          "name": "stdout",
          "text": [
            "Evaluate on test data\n",
            "79/79 [==============================] - 2s 21ms/step - loss: 0.3825 - accuracy: 0.8612\n",
            "test loss, test acc: [0.3824754059314728, 0.8611999750137329]\n",
            "Generate predictions for 3 samples\n",
            "predictions shape: (3, 1)\n"
          ]
        }
      ]
    },
    {
      "cell_type": "code",
      "source": [
        "text = \"do not like this movie\"\n",
        "text2 = \"like this movie\"\n",
        "texts = [text,text2]\n",
        "tokens = tokenizer.texts_to_sequences(texts)"
      ],
      "metadata": {
        "id": "C_eeqDQJkM0O"
      },
      "execution_count": null,
      "outputs": []
    },
    {
      "cell_type": "code",
      "source": [
        "tokens_pad = sequence.pad_sequences(tokens,maxlen = max_tokens)\n",
        "tokens_pad.shape"
      ],
      "metadata": {
        "colab": {
          "base_uri": "https://localhost:8080/"
        },
        "id": "GoZ0-LEQkOWe",
        "outputId": "0e30cbd7-7cdc-4505-a29c-d49e5a15bb65"
      },
      "execution_count": null,
      "outputs": [
        {
          "output_type": "execute_result",
          "data": {
            "text/plain": [
              "(2, 272)"
            ]
          },
          "metadata": {},
          "execution_count": 161
        }
      ]
    },
    {
      "cell_type": "code",
      "source": [
        "predict_x=model.predict(tokens_pad) \n",
        "classes_x=np.argmax(predict_x,axis=1)\n",
        "print(\"moralinizin {} olduğunu görüyorum. \".format(classes_x[0]))"
      ],
      "metadata": {
        "colab": {
          "base_uri": "https://localhost:8080/"
        },
        "id": "EIWSkUVZlbNs",
        "outputId": "e0e16de4-5c80-482c-87b8-3a7c47ffef04"
      },
      "execution_count": null,
      "outputs": [
        {
          "output_type": "stream",
          "name": "stdout",
          "text": [
            "moralinizin 0 olduğunu görüyorum. \n"
          ]
        }
      ]
    }
  ]
}